{
 "cells": [
  {
   "cell_type": "code",
   "execution_count": 1,
   "id": "944ab790",
   "metadata": {},
   "outputs": [],
   "source": [
    "import pandas as pd"
   ]
  },
  {
   "cell_type": "code",
   "execution_count": 9,
   "id": "a9fac498",
   "metadata": {},
   "outputs": [
    {
     "data": {
      "text/html": [
       "<div>\n",
       "<style scoped>\n",
       "    .dataframe tbody tr th:only-of-type {\n",
       "        vertical-align: middle;\n",
       "    }\n",
       "\n",
       "    .dataframe tbody tr th {\n",
       "        vertical-align: top;\n",
       "    }\n",
       "\n",
       "    .dataframe thead th {\n",
       "        text-align: right;\n",
       "    }\n",
       "</style>\n",
       "<table border=\"1\" class=\"dataframe\">\n",
       "  <thead>\n",
       "    <tr style=\"text-align: right;\">\n",
       "      <th></th>\n",
       "      <th>Data</th>\n",
       "      <th>Líder</th>\n",
       "      <th>Mecânico</th>\n",
       "      <th>Cliente</th>\n",
       "      <th>Interna</th>\n",
       "      <th>Perdidas</th>\n",
       "      <th>Placa: Moto Problemática</th>\n",
       "      <th>Motivos e Quantidades Motos Perdidas</th>\n",
       "      <th>Motivo Perdidas</th>\n",
       "      <th>Quantidade</th>\n",
       "    </tr>\n",
       "  </thead>\n",
       "  <tbody>\n",
       "    <tr>\n",
       "      <th>103</th>\n",
       "      <td>2025-04-22</td>\n",
       "      <td>Maxsuel Conceição</td>\n",
       "      <td>ROBSON VICTOR AHID NUNES PEREIRA</td>\n",
       "      <td>6</td>\n",
       "      <td>1</td>\n",
       "      <td>0</td>\n",
       "      <td>0</td>\n",
       "      <td>0</td>\n",
       "      <td>NaN</td>\n",
       "      <td>NaN</td>\n",
       "    </tr>\n",
       "    <tr>\n",
       "      <th>104</th>\n",
       "      <td>2025-04-23</td>\n",
       "      <td>Maxsuel Conceição</td>\n",
       "      <td>WANDERSON BARROSO COSTA</td>\n",
       "      <td>7</td>\n",
       "      <td>0</td>\n",
       "      <td>1</td>\n",
       "      <td>0</td>\n",
       "      <td>Iot. TAJ9C98</td>\n",
       "      <td>NaN</td>\n",
       "      <td>NaN</td>\n",
       "    </tr>\n",
       "    <tr>\n",
       "      <th>105</th>\n",
       "      <td>2025-04-22</td>\n",
       "      <td>Maxsuel Conceição</td>\n",
       "      <td>ROBSON VICTOR AHID NUNES PEREIRA</td>\n",
       "      <td>7</td>\n",
       "      <td>0</td>\n",
       "      <td>0</td>\n",
       "      <td>0</td>\n",
       "      <td>0</td>\n",
       "      <td>NaN</td>\n",
       "      <td>NaN</td>\n",
       "    </tr>\n",
       "    <tr>\n",
       "      <th>106</th>\n",
       "      <td>2025-04-24</td>\n",
       "      <td>Maxsuel Conceição</td>\n",
       "      <td>RAILSON DA CUNHA SILVA</td>\n",
       "      <td>8</td>\n",
       "      <td>0</td>\n",
       "      <td>0</td>\n",
       "      <td>0</td>\n",
       "      <td>...</td>\n",
       "      <td>NaN</td>\n",
       "      <td>NaN</td>\n",
       "    </tr>\n",
       "    <tr>\n",
       "      <th>107</th>\n",
       "      <td>2025-04-22</td>\n",
       "      <td>Maxsuel Conceição</td>\n",
       "      <td>RAILSON DA CUNHA SILVA</td>\n",
       "      <td>9</td>\n",
       "      <td>1</td>\n",
       "      <td>0</td>\n",
       "      <td>0</td>\n",
       "      <td>0</td>\n",
       "      <td>NaN</td>\n",
       "      <td>NaN</td>\n",
       "    </tr>\n",
       "  </tbody>\n",
       "</table>\n",
       "</div>"
      ],
      "text/plain": [
       "           Data              Líder                          Mecânico  Cliente  \\\n",
       "103  2025-04-22  Maxsuel Conceição  ROBSON VICTOR AHID NUNES PEREIRA        6   \n",
       "104  2025-04-23  Maxsuel Conceição           WANDERSON BARROSO COSTA        7   \n",
       "105  2025-04-22  Maxsuel Conceição  ROBSON VICTOR AHID NUNES PEREIRA        7   \n",
       "106  2025-04-24  Maxsuel Conceição            RAILSON DA CUNHA SILVA        8   \n",
       "107  2025-04-22  Maxsuel Conceição            RAILSON DA CUNHA SILVA        9   \n",
       "\n",
       "     Interna  Perdidas Placa: Moto Problemática  \\\n",
       "103        1         0                        0   \n",
       "104        0         1                        0   \n",
       "105        0         0                        0   \n",
       "106        0         0                        0   \n",
       "107        1         0                        0   \n",
       "\n",
       "    Motivos e Quantidades Motos Perdidas  Motivo Perdidas  Quantidade  \n",
       "103                                     0             NaN         NaN  \n",
       "104                          Iot. TAJ9C98             NaN         NaN  \n",
       "105                                     0             NaN         NaN  \n",
       "106                                   ...             NaN         NaN  \n",
       "107                                     0             NaN         NaN  "
      ]
     },
     "execution_count": 9,
     "metadata": {},
     "output_type": "execute_result"
    }
   ],
   "source": [
    "df = pd.read_excel('ProdMecânico.xlsx')\n",
    "df.tail(5)"
   ]
  },
  {
   "cell_type": "code",
   "execution_count": 26,
   "id": "14a36596",
   "metadata": {},
   "outputs": [
    {
     "name": "stdout",
     "output_type": "stream",
     "text": [
      "Total de Motos Clientes - Quadrante I (João Belo): 109\n",
      "Total de Motos Interna - Quadrante I (João Belo): 21\n",
      "Total de Manutenções Realizadas - Quadrante I : 130\n",
      "Total de Mecãnicos Presentes - Quadrante I : 29\n",
      "Produtividade Quadrante I: 4.482758620689655\n"
     ]
    }
   ],
   "source": [
    "df_jb = df[df['Líder'] == 'João Belo ']\n",
    "df_jb_total_cliente = df_jb['Cliente'].sum()\n",
    "print(f'Total de Motos Clientes - Quadrante I (João Belo): {df_jb_total_cliente}')\n",
    "\n",
    "df_jb_total_interna = df_jb['Interna'].sum()\n",
    "print(f'Total de Motos Interna - Quadrante I (João Belo): {df_jb_total_interna}')\n",
    "\n",
    "print(f'Total de Manutenções Realizadas - Quadrante I : {df_jb_total_cliente+df_jb_total_interna}')\n",
    "\n",
    "df_jb_mec_presente = len(df_jb)\n",
    "print(f'Total de Mecãnicos Presentes - Quadrante I : {df_jb_mec_presente}')\n",
    "\n",
    "\n",
    "\n",
    "print(f'Produtividade Quadrante I: {(df_jb_total_cliente+df_jb_total_interna)/df_jb_mec_presente}')"
   ]
  },
  {
   "cell_type": "code",
   "execution_count": 28,
   "id": "bdae30da",
   "metadata": {},
   "outputs": [
    {
     "name": "stdout",
     "output_type": "stream",
     "text": [
      "Total de Motos Clientes - Quadrante IV (Jsmerson Igor): 107\n",
      "Total de Motos Interna - Quadrante I (João Belo): 12\n",
      "Total de Manutenções Realizadas - Quadrante I : 119\n",
      "Total de Mecãnicos Presentes - Quadrante I : 26\n",
      "Produtividade Quadrante IV: 4.576923076923077\n"
     ]
    }
   ],
   "source": [
    "df_ji = df[df['Líder'] == 'Jamerson Igor ']\n",
    "df_ji_total_cliente = df_ji['Cliente'].sum()\n",
    "print(f'Total de Motos Clientes - Quadrante IV (Jsmerson Igor): {df_ji_total_cliente}')\n",
    "\n",
    "df_ji_total_interna = df_ji['Interna'].sum()\n",
    "print(f'Total de Motos Interna - Quadrante I (João Belo): {df_ji_total_interna}')\n",
    "\n",
    "print(f'Total de Manutenções Realizadas - Quadrante I : {df_ji_total_cliente+df_ji_total_interna}')\n",
    "\n",
    "df_ji_mec_presente = len(df_ji)\n",
    "print(f'Total de Mecãnicos Presentes - Quadrante I : {df_ji_mec_presente}')\n",
    "\n",
    "print(f'Produtividade Quadrante IV: {(df_ji_total_cliente+df_ji_total_interna)/df_ji_mec_presente}')"
   ]
  },
  {
   "cell_type": "code",
   "execution_count": null,
   "id": "8082f473",
   "metadata": {},
   "outputs": [],
   "source": []
  }
 ],
 "metadata": {
  "kernelspec": {
   "display_name": "base",
   "language": "python",
   "name": "python3"
  },
  "language_info": {
   "codemirror_mode": {
    "name": "ipython",
    "version": 3
   },
   "file_extension": ".py",
   "mimetype": "text/x-python",
   "name": "python",
   "nbconvert_exporter": "python",
   "pygments_lexer": "ipython3",
   "version": "3.11.7"
  }
 },
 "nbformat": 4,
 "nbformat_minor": 5
}
